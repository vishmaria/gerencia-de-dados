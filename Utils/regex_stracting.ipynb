{
 "cells": [
  {
   "cell_type": "markdown",
   "metadata": {},
   "source": [
    "# RegEx para extração de dados"
   ]
  },
  {
   "cell_type": "markdown",
   "metadata": {},
   "source": [
    "### Informações extraídas do site [Practical Data Science](https://practicaldatascience.co.uk/data-science/how-to-use-python-regular-expressions-to-extract-information)"
   ]
  },
  {
   "cell_type": "code",
   "execution_count": null,
   "metadata": {},
   "outputs": [],
   "source": [
    "# bibliotecas básicas:\n",
    "import re\n"
   ]
  },
  {
   "cell_type": "markdown",
   "metadata": {},
   "source": [
    "## Cheat sheet de funções:\n",
    "- `re.findall(r'padrão', texto)`: retorna uma lista com todas as ocorrências do padrão no texto\n",
    "\n",
    "\n",
    "- `re.search(r'padrão', texto)`: retorna um objeto match se encontrar o padrão no texto\n",
    "\n",
    "\n",
    "- `re.sub(r'padrão', 'substituição', texto)`: substitui o padrão por uma string no texto\n",
    "\n",
    "\n",
    "- `re.split(r'padrão', texto)`: divide o texto em uma lista de substrings"
   ]
  },
  {
   "cell_type": "markdown",
   "metadata": {},
   "source": [
    "## Exemplos:"
   ]
  },
  {
   "cell_type": "markdown",
   "metadata": {},
   "source": [
    "### 1. Extrair hashtags de um texto (para redes sociais, por exemplo)"
   ]
  },
  {
   "cell_type": "code",
   "execution_count": null,
   "metadata": {},
   "outputs": [],
   "source": [
    "def extract_hashtags(text):\n",
    "    regex = \"#(\\w+)\"\n",
    "    return re.findall(regex, str(text))\n"
   ]
  },
  {
   "cell_type": "code",
   "execution_count": null,
   "metadata": {},
   "outputs": [],
   "source": [
    "str = 'Eu amo a disciplina de #gerenciadedados na #ufsc'\n",
    "hashtags = extract_hashtags(str)\n",
    "hashtags"
   ]
  }
 ],
 "metadata": {
  "kernelspec": {
   "display_name": ".venv",
   "language": "python",
   "name": "python3"
  },
  "language_info": {
   "codemirror_mode": {
    "name": "ipython",
    "version": 3
   },
   "file_extension": ".py",
   "mimetype": "text/x-python",
   "name": "python",
   "nbconvert_exporter": "python",
   "pygments_lexer": "ipython3",
   "version": "3.12.2"
  }
 },
 "nbformat": 4,
 "nbformat_minor": 2
}
